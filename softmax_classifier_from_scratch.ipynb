{
  "nbformat": 4,
  "nbformat_minor": 0,
  "metadata": {
    "kernelspec": {
      "display_name": "Python 3",
      "name": "python3"
    },
    "language_info": {
      "codemirror_mode": {
        "name": "ipython",
        "version": 3
      },
      "file_extension": ".py",
      "mimetype": "text/x-python",
      "name": "python",
      "nbconvert_exporter": "python",
      "pygments_lexer": "ipython3",
      "version": "3.6.2"
    },
    "toc": {
      "colors": {
        "hover_highlight": "#DAA520",
        "navigate_num": "#000000",
        "navigate_text": "#333333",
        "running_highlight": "#FF0000",
        "selected_highlight": "#FFD700",
        "sidebar_border": "#EEEEEE",
        "wrapper_background": "#FFFFFF"
      },
      "moveMenuLeft": true,
      "nav_menu": {
        "height": "264px",
        "width": "252px"
      },
      "navigate_menu": true,
      "number_sections": true,
      "sideBar": true,
      "threshold": 4,
      "toc_cell": false,
      "toc_section_display": "block",
      "toc_window_display": false,
      "widenNotebook": false
    },
    "colab": {
      "provenance": [],
      "gpuType": "V28",
      "include_colab_link": true
    },
    "widgets": {
      "application/vnd.jupyter.widget-state+json": {
        "91f6a91d11c04784985377ee5151bf17": {
          "model_module": "@jupyter-widgets/controls",
          "model_name": "HBoxModel",
          "model_module_version": "1.5.0",
          "state": {
            "_dom_classes": [],
            "_model_module": "@jupyter-widgets/controls",
            "_model_module_version": "1.5.0",
            "_model_name": "HBoxModel",
            "_view_count": null,
            "_view_module": "@jupyter-widgets/controls",
            "_view_module_version": "1.5.0",
            "_view_name": "HBoxView",
            "box_style": "",
            "children": [
              "IPY_MODEL_f44c6317f1664aa79ac3ae1513ec79bc",
              "IPY_MODEL_c768e3298c374413b1c657fae3b586bb",
              "IPY_MODEL_bf12e66793bc4f5dafd471ac61da32cb"
            ],
            "layout": "IPY_MODEL_d040d5d198904dfb9dcd585842e65e7f"
          }
        },
        "f44c6317f1664aa79ac3ae1513ec79bc": {
          "model_module": "@jupyter-widgets/controls",
          "model_name": "HTMLModel",
          "model_module_version": "1.5.0",
          "state": {
            "_dom_classes": [],
            "_model_module": "@jupyter-widgets/controls",
            "_model_module_version": "1.5.0",
            "_model_name": "HTMLModel",
            "_view_count": null,
            "_view_module": "@jupyter-widgets/controls",
            "_view_module_version": "1.5.0",
            "_view_name": "HTMLView",
            "description": "",
            "description_tooltip": null,
            "layout": "IPY_MODEL_3708e7a4a197490c92f5f8e332a2b4ca",
            "placeholder": "​",
            "style": "IPY_MODEL_eb2d6d7b13e14c81a874ebbe8bb4e292",
            "value": "100%"
          }
        },
        "c768e3298c374413b1c657fae3b586bb": {
          "model_module": "@jupyter-widgets/controls",
          "model_name": "FloatProgressModel",
          "model_module_version": "1.5.0",
          "state": {
            "_dom_classes": [],
            "_model_module": "@jupyter-widgets/controls",
            "_model_module_version": "1.5.0",
            "_model_name": "FloatProgressModel",
            "_view_count": null,
            "_view_module": "@jupyter-widgets/controls",
            "_view_module_version": "1.5.0",
            "_view_name": "ProgressView",
            "bar_style": "success",
            "description": "",
            "description_tooltip": null,
            "layout": "IPY_MODEL_dbd6f362da4b4a0aa0069bd4cb6f3bc6",
            "max": 1562,
            "min": 0,
            "orientation": "horizontal",
            "style": "IPY_MODEL_c7dfff12498e49d6bb69cd893379e2b6",
            "value": 1562
          }
        },
        "bf12e66793bc4f5dafd471ac61da32cb": {
          "model_module": "@jupyter-widgets/controls",
          "model_name": "HTMLModel",
          "model_module_version": "1.5.0",
          "state": {
            "_dom_classes": [],
            "_model_module": "@jupyter-widgets/controls",
            "_model_module_version": "1.5.0",
            "_model_name": "HTMLModel",
            "_view_count": null,
            "_view_module": "@jupyter-widgets/controls",
            "_view_module_version": "1.5.0",
            "_view_name": "HTMLView",
            "description": "",
            "description_tooltip": null,
            "layout": "IPY_MODEL_accc2f21b33d4b5fb53ea6022c27890b",
            "placeholder": "​",
            "style": "IPY_MODEL_839cdb40e7f8432db7a7cc1dbe0058ef",
            "value": " 1562/1562 [05:54&lt;00:00,  4.46it/s]"
          }
        },
        "d040d5d198904dfb9dcd585842e65e7f": {
          "model_module": "@jupyter-widgets/base",
          "model_name": "LayoutModel",
          "model_module_version": "1.2.0",
          "state": {
            "_model_module": "@jupyter-widgets/base",
            "_model_module_version": "1.2.0",
            "_model_name": "LayoutModel",
            "_view_count": null,
            "_view_module": "@jupyter-widgets/base",
            "_view_module_version": "1.2.0",
            "_view_name": "LayoutView",
            "align_content": null,
            "align_items": null,
            "align_self": null,
            "border": null,
            "bottom": null,
            "display": null,
            "flex": null,
            "flex_flow": null,
            "grid_area": null,
            "grid_auto_columns": null,
            "grid_auto_flow": null,
            "grid_auto_rows": null,
            "grid_column": null,
            "grid_gap": null,
            "grid_row": null,
            "grid_template_areas": null,
            "grid_template_columns": null,
            "grid_template_rows": null,
            "height": null,
            "justify_content": null,
            "justify_items": null,
            "left": null,
            "margin": null,
            "max_height": null,
            "max_width": null,
            "min_height": null,
            "min_width": null,
            "object_fit": null,
            "object_position": null,
            "order": null,
            "overflow": null,
            "overflow_x": null,
            "overflow_y": null,
            "padding": null,
            "right": null,
            "top": null,
            "visibility": null,
            "width": null
          }
        },
        "3708e7a4a197490c92f5f8e332a2b4ca": {
          "model_module": "@jupyter-widgets/base",
          "model_name": "LayoutModel",
          "model_module_version": "1.2.0",
          "state": {
            "_model_module": "@jupyter-widgets/base",
            "_model_module_version": "1.2.0",
            "_model_name": "LayoutModel",
            "_view_count": null,
            "_view_module": "@jupyter-widgets/base",
            "_view_module_version": "1.2.0",
            "_view_name": "LayoutView",
            "align_content": null,
            "align_items": null,
            "align_self": null,
            "border": null,
            "bottom": null,
            "display": null,
            "flex": null,
            "flex_flow": null,
            "grid_area": null,
            "grid_auto_columns": null,
            "grid_auto_flow": null,
            "grid_auto_rows": null,
            "grid_column": null,
            "grid_gap": null,
            "grid_row": null,
            "grid_template_areas": null,
            "grid_template_columns": null,
            "grid_template_rows": null,
            "height": null,
            "justify_content": null,
            "justify_items": null,
            "left": null,
            "margin": null,
            "max_height": null,
            "max_width": null,
            "min_height": null,
            "min_width": null,
            "object_fit": null,
            "object_position": null,
            "order": null,
            "overflow": null,
            "overflow_x": null,
            "overflow_y": null,
            "padding": null,
            "right": null,
            "top": null,
            "visibility": null,
            "width": null
          }
        },
        "eb2d6d7b13e14c81a874ebbe8bb4e292": {
          "model_module": "@jupyter-widgets/controls",
          "model_name": "DescriptionStyleModel",
          "model_module_version": "1.5.0",
          "state": {
            "_model_module": "@jupyter-widgets/controls",
            "_model_module_version": "1.5.0",
            "_model_name": "DescriptionStyleModel",
            "_view_count": null,
            "_view_module": "@jupyter-widgets/base",
            "_view_module_version": "1.2.0",
            "_view_name": "StyleView",
            "description_width": ""
          }
        },
        "dbd6f362da4b4a0aa0069bd4cb6f3bc6": {
          "model_module": "@jupyter-widgets/base",
          "model_name": "LayoutModel",
          "model_module_version": "1.2.0",
          "state": {
            "_model_module": "@jupyter-widgets/base",
            "_model_module_version": "1.2.0",
            "_model_name": "LayoutModel",
            "_view_count": null,
            "_view_module": "@jupyter-widgets/base",
            "_view_module_version": "1.2.0",
            "_view_name": "LayoutView",
            "align_content": null,
            "align_items": null,
            "align_self": null,
            "border": null,
            "bottom": null,
            "display": null,
            "flex": null,
            "flex_flow": null,
            "grid_area": null,
            "grid_auto_columns": null,
            "grid_auto_flow": null,
            "grid_auto_rows": null,
            "grid_column": null,
            "grid_gap": null,
            "grid_row": null,
            "grid_template_areas": null,
            "grid_template_columns": null,
            "grid_template_rows": null,
            "height": null,
            "justify_content": null,
            "justify_items": null,
            "left": null,
            "margin": null,
            "max_height": null,
            "max_width": null,
            "min_height": null,
            "min_width": null,
            "object_fit": null,
            "object_position": null,
            "order": null,
            "overflow": null,
            "overflow_x": null,
            "overflow_y": null,
            "padding": null,
            "right": null,
            "top": null,
            "visibility": null,
            "width": null
          }
        },
        "c7dfff12498e49d6bb69cd893379e2b6": {
          "model_module": "@jupyter-widgets/controls",
          "model_name": "ProgressStyleModel",
          "model_module_version": "1.5.0",
          "state": {
            "_model_module": "@jupyter-widgets/controls",
            "_model_module_version": "1.5.0",
            "_model_name": "ProgressStyleModel",
            "_view_count": null,
            "_view_module": "@jupyter-widgets/base",
            "_view_module_version": "1.2.0",
            "_view_name": "StyleView",
            "bar_color": null,
            "description_width": ""
          }
        },
        "accc2f21b33d4b5fb53ea6022c27890b": {
          "model_module": "@jupyter-widgets/base",
          "model_name": "LayoutModel",
          "model_module_version": "1.2.0",
          "state": {
            "_model_module": "@jupyter-widgets/base",
            "_model_module_version": "1.2.0",
            "_model_name": "LayoutModel",
            "_view_count": null,
            "_view_module": "@jupyter-widgets/base",
            "_view_module_version": "1.2.0",
            "_view_name": "LayoutView",
            "align_content": null,
            "align_items": null,
            "align_self": null,
            "border": null,
            "bottom": null,
            "display": null,
            "flex": null,
            "flex_flow": null,
            "grid_area": null,
            "grid_auto_columns": null,
            "grid_auto_flow": null,
            "grid_auto_rows": null,
            "grid_column": null,
            "grid_gap": null,
            "grid_row": null,
            "grid_template_areas": null,
            "grid_template_columns": null,
            "grid_template_rows": null,
            "height": null,
            "justify_content": null,
            "justify_items": null,
            "left": null,
            "margin": null,
            "max_height": null,
            "max_width": null,
            "min_height": null,
            "min_width": null,
            "object_fit": null,
            "object_position": null,
            "order": null,
            "overflow": null,
            "overflow_x": null,
            "overflow_y": null,
            "padding": null,
            "right": null,
            "top": null,
            "visibility": null,
            "width": null
          }
        },
        "839cdb40e7f8432db7a7cc1dbe0058ef": {
          "model_module": "@jupyter-widgets/controls",
          "model_name": "DescriptionStyleModel",
          "model_module_version": "1.5.0",
          "state": {
            "_model_module": "@jupyter-widgets/controls",
            "_model_module_version": "1.5.0",
            "_model_name": "DescriptionStyleModel",
            "_view_count": null,
            "_view_module": "@jupyter-widgets/base",
            "_view_module_version": "1.2.0",
            "_view_name": "StyleView",
            "description_width": ""
          }
        }
      }
    },
    "accelerator": "TPU"
  },
  "cells": [
    {
      "cell_type": "markdown",
      "metadata": {
        "id": "view-in-github",
        "colab_type": "text"
      },
      "source": [
        "<a href=\"https://colab.research.google.com/github/Rachelslh/Softmax-classifier-from-scratch/blob/main/softmax_classifier_from_scratch.ipynb\" target=\"_parent\"><img src=\"https://colab.research.google.com/assets/colab-badge.svg\" alt=\"Open In Colab\"/></a>"
      ]
    },
    {
      "cell_type": "code",
      "source": [
        "from tqdm.notebook import tqdm\n",
        "import keras\n",
        "import numpy as np\n",
        "np.random.seed(42)\n",
        "\n",
        "import matplotlib.pyplot as plt"
      ],
      "metadata": {
        "id": "XcuYYJ_LcHfA"
      },
      "execution_count": 88,
      "outputs": []
    },
    {
      "cell_type": "code",
      "source": [
        "class Layer:\n",
        "  '''This is just a building block of our network'''\n",
        "  def __init__(self):\n",
        "    pass\n",
        "\n",
        "  def forward(self, input):\n",
        "    return input\n",
        "\n",
        "  def backward(self, input, grad_output):\n",
        "    \"\"\"\n",
        "    - Performs a backpropagation step through the layer, w.r.t input and learnable parameters\n",
        "    - Updates the learnable parameters\n",
        "    \"\"\"\n",
        "    return grad_output"
      ],
      "metadata": {
        "id": "BzsPj3m1cKL7"
      },
      "execution_count": 89,
      "outputs": []
    },
    {
      "cell_type": "code",
      "source": [
        "class Dense(Layer):\n",
        "  def __init__(self, input_units, output_units, learning_rate=0.1):\n",
        "    \"\"\"\n",
        "    A dense layer is a layer which performs a learned affine transformation:\n",
        "    f(x) = <W*x> + b\n",
        "    \"\"\"\n",
        "    self.learning_rate = learning_rate\n",
        "    # initialize weights with small random numbers. We use normal initialization i.e. weights are sampled from a normal distribution with mean=0 and STD=1\n",
        "    self.weights = np.random.randn(input_units, output_units)*0.01\n",
        "    self.biases = np.zeros(output_units)\n",
        "  def forward(self, input):\n",
        "    \"\"\"\n",
        "    Perform an affine transformation:\n",
        "    f(x) = <W*x> + b\n",
        "    input shape: [batch, input_units]\n",
        "    output shape: [batch, output units]\n",
        "    \"\"\"\n",
        "    return np.dot(input, self.weights) + self.biases\n",
        "\n",
        "  def backward(self, input, grad_output):\n",
        "    # compute d f / d x = d f / d dense * d dense / d x\n",
        "    # where d dense/ d x = weights transposed\n",
        "    grad_input = np.dot(grad_output, self.weights.T)\n",
        "    # compute gradient w.r.t. weights and biases\n",
        "    grad_weights = np.dot(input.T, grad_output)\n",
        "    grad_biases = grad_output.sum(axis=0)\n",
        "    assert grad_weights.shape == self.weights.shape and grad_biases.shape == self.biases.shape\n",
        "\n",
        "    # Here we perform a stochastic gradient descent step\n",
        "    self.weights = self.weights - self.learning_rate * grad_weights\n",
        "    self.biases = self.biases - self.learning_rate * grad_biases\n",
        "\n",
        "    return grad_input"
      ],
      "metadata": {
        "id": "4NG-OQGLcNH8"
      },
      "execution_count": 90,
      "outputs": []
    },
    {
      "cell_type": "code",
      "source": [
        "class ReLU(Layer):\n",
        "  def __init__(self):\n",
        "    \"\"\"ReLU layer simply applies elementwise rectified linear unit to all inputs\"\"\"\n",
        "    pass\n",
        "\n",
        "  def forward(self, input):\n",
        "    \"\"\"Apply elementwise ReLU to [batch, input_units] matrix\"\"\"\n",
        "    return np.maximum(input, 0)\n",
        "\n",
        "  def backward(self, input, grad_output):\n",
        "    \"\"\"Compute gradient of loss w.r.t. ReLU input\"\"\"\n",
        "    relu_grad = input > 0 # 1 if input > 0 else 0\n",
        "    return grad_output*relu_grad"
      ],
      "metadata": {
        "id": "p2GAC2zhcPqM"
      },
      "execution_count": 91,
      "outputs": []
    },
    {
      "cell_type": "code",
      "source": [
        "class mnist_classifier:\n",
        "  def __init__(self, input_shape):\n",
        "    self.model = [\n",
        "      Dense(input_shape,100),\n",
        "      ReLU(),\n",
        "      Dense(100,200),\n",
        "      ReLU(),\n",
        "      Dense(200,10)\n",
        "    ]\n",
        "\n",
        "  def forward(self, inputs):\n",
        "    \"\"\"\n",
        "    Compute activations of all network layers by applying them sequentially.\n",
        "    Return a list of activations for each layer.\n",
        "    \"\"\"\n",
        "\n",
        "    output_per_layer = [self.model[0].forward(inputs)]\n",
        "    for idx in range(1, len(self.model)):\n",
        "        output_per_layer.append(self.model[idx].forward(output_per_layer[idx - 1]))\n",
        "\n",
        "    return output_per_layer\n",
        "\n",
        "  def backward(self, input_per_layer, grad_output):\n",
        "    layers_backward = self.model[::-1]\n",
        "    for idx, layer in enumerate(layers_backward):\n",
        "      grad_output = layer.backward(input_per_layer[::-1][idx+1], grad_output)\n",
        "\n",
        "  def predict(self,X):\n",
        "    \"\"\"\n",
        "    Compute network predictions.\n",
        "    \"\"\"\n",
        "    logits = self.forward(X)[-1]\n",
        "    return logits.argmax(axis=-1)"
      ],
      "metadata": {
        "id": "BacXJmSwcRyp"
      },
      "execution_count": 92,
      "outputs": []
    },
    {
      "cell_type": "code",
      "source": [
        "def softmax_crossentropy_with_logits(logits, groundtruth_labels):\n",
        "  \"\"\"Compute crossentropy from logits[batch,n_classes] and ids of correct labels\"\"\"\n",
        "  logits_for_correct_labels = logits[np.arange(len(logits)),groundtruth_labels]\n",
        "  xentropy = - logits_for_correct_labels + np.log(np.sum(np.exp(logits),axis=-1))\n",
        "\n",
        "  return xentropy\n",
        "\n",
        "def grad_softmax_crossentropy_with_logits(logits, groundtruth_labels):\n",
        "  \"\"\"Compute crossentropy gradient from logits[batch,n_classes] and ids of correct labels\"\"\"\n",
        "  ones_for_correct_labels = np.zeros_like(logits)\n",
        "  ones_for_correct_labels[np.arange(len(logits)),groundtruth_labels] = 1\n",
        "\n",
        "  softmax = np.exp(logits) / np.exp(logits).sum(axis=-1,keepdims=True)\n",
        "  return (- ones_for_correct_labels + softmax) / logits.shape[0]"
      ],
      "metadata": {
        "id": "XkZZwYeNcULm"
      },
      "execution_count": 93,
      "outputs": []
    },
    {
      "cell_type": "code",
      "source": [
        "def load_dataset(flatten=False):\n",
        "  (X_train, y_train), (X_test, y_test) = keras.datasets.mnist.load_data()\n",
        "\n",
        "  # normalize x\n",
        "  X_train = X_train.astype(float) / 255.\n",
        "  X_test = X_test.astype(float) / 255.\n",
        "\n",
        "  # we reserve the last 10000 training examples for validation\n",
        "  X_train, X_val = X_train[:-10000], X_train[-10000:]\n",
        "  y_train, y_val = y_train[:-10000], y_train[-10000:]\n",
        "\n",
        "  if flatten:\n",
        "     X_train = X_train.reshape([X_train.shape[0], -1])\n",
        "     X_val = X_val.reshape([X_val.shape[0], -1])\n",
        "     X_test = X_test.reshape([X_test.shape[0], -1])\n",
        "\n",
        "  return X_train, y_train, X_val, y_val, X_test, y_test\n",
        "\n",
        "# Prep dataset into batches\n",
        "def get_batches(inputs, targets, batchsize):\n",
        "  for start_idx in tqdm(range(0, len(inputs) - batchsize + 1, batchsize)):\n",
        "    excerpt = slice(start_idx, start_idx + batchsize)\n",
        "    yield inputs[excerpt], targets[excerpt]"
      ],
      "metadata": {
        "id": "-Pt_9o5-cWj5"
      },
      "execution_count": 94,
      "outputs": []
    },
    {
      "cell_type": "code",
      "source": [
        "# Load the dataset\n",
        "X_train, y_train, X_val, y_val, X_test, y_test = load_dataset(flatten=True)\n",
        "# Prep the dataset into batches\n",
        "#batches = get_batches(X_train, y_train, batchsize=32)\n",
        "\n",
        "# Create model instance\n",
        "model = mnist_classifier(X_train.shape[1])\n",
        "\n",
        "train_log, val_log = [], []\n",
        "for epoch in range(1):\n",
        "  for (x_batch, y_batch) in get_batches(X_train, y_train, batchsize=32):\n",
        "\n",
        "    # Get the layer activations\n",
        "    output_per_layer = model.forward(x_batch)\n",
        "    logits = output_per_layer[-1]\n",
        "    input_per_layer = [x_batch]\n",
        "    input_per_layer.extend(output_per_layer)\n",
        "\n",
        "    # Compute the loss and the initial gradient\n",
        "    loss = softmax_crossentropy_with_logits(logits,y_batch)\n",
        "    loss_grad = grad_softmax_crossentropy_with_logits(logits,y_batch)\n",
        "\n",
        "    model.backward(input_per_layer, loss_grad)\n",
        "    train_log.append(np.mean(model.predict(X_train)==y_train))\n",
        "    val_log.append(np.mean(model.predict(X_val)==y_val))\n",
        "\n",
        "# Plot training and validation curves\n",
        "plt.plot(train_log,label='train accuracy')\n",
        "plt.plot(val_log,label='val accuracy')\n",
        "plt.legend(loc='best')\n",
        "plt.grid()\n",
        "plt.show()"
      ],
      "metadata": {
        "colab": {
          "base_uri": "https://localhost:8080/",
          "height": 462,
          "referenced_widgets": [
            "91f6a91d11c04784985377ee5151bf17",
            "f44c6317f1664aa79ac3ae1513ec79bc",
            "c768e3298c374413b1c657fae3b586bb",
            "bf12e66793bc4f5dafd471ac61da32cb",
            "d040d5d198904dfb9dcd585842e65e7f",
            "3708e7a4a197490c92f5f8e332a2b4ca",
            "eb2d6d7b13e14c81a874ebbe8bb4e292",
            "dbd6f362da4b4a0aa0069bd4cb6f3bc6",
            "c7dfff12498e49d6bb69cd893379e2b6",
            "accc2f21b33d4b5fb53ea6022c27890b",
            "839cdb40e7f8432db7a7cc1dbe0058ef"
          ]
        },
        "id": "meujg_T3cYqP",
        "outputId": "5c4c5c62-1b2c-4e8f-c68b-1cb4899418a7"
      },
      "execution_count": 95,
      "outputs": [
        {
          "output_type": "display_data",
          "data": {
            "text/plain": [
              "  0%|          | 0/1562 [00:00<?, ?it/s]"
            ],
            "application/vnd.jupyter.widget-view+json": {
              "version_major": 2,
              "version_minor": 0,
              "model_id": "91f6a91d11c04784985377ee5151bf17"
            }
          },
          "metadata": {}
        },
        {
          "output_type": "display_data",
          "data": {
            "text/plain": [
              "<Figure size 640x480 with 1 Axes>"
            ],
            "image/png": "[encoded data removed]"
          },
          "metadata": {}
        }
      ]
    },
    {
      "cell_type": "code",
      "source": [
        "pred = model.predict(X_test[:4])\n",
        "\n",
        "plt.figure(figsize=[6,6])\n",
        "for i in range(4):\n",
        "  plt.subplot(2,2,i+1)\n",
        "  plt.title(f\"True Label: {y_test[i]}, predicted label: {pred[i]}\")\n",
        "  plt.imshow(X_test[i].reshape([28,28]),cmap='gray');"
      ],
      "metadata": {
        "colab": {
          "base_uri": "https://localhost:8080/",
          "height": 545
        },
        "id": "cP9fwzULcbLM",
        "outputId": "6f86030d-fa88-47ec-9cb4-4d1c97122725"
      },
      "execution_count": 96,
      "outputs": [
        {
          "output_type": "display_data",
          "data": {
            "text/plain": [
              "<Figure size 600x600 with 4 Axes>"
            ],
            "image/png": "[encoded data removed]"
          },
          "metadata": {}
        }
      ]
    }
  ]
}